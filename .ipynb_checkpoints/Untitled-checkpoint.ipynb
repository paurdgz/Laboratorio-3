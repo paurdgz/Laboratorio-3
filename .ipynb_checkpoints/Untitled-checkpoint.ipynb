{
 "cells": [
  {
   "cell_type": "markdown",
   "metadata": {},
   "source": [
    "## LABORATORIO 3: BEHAVIORAL ECONOMICS IN TRADING\n",
    "\n",
    "#### Proposito: \n",
    "Que utilices la infomracion historica de la cuenta de trading manual, mediante la formulacion y programaciones de 3 \"sesgos cognitivos\" realices una evaluacion del desempeño de la cuenta utilizando el marco de \"behavioral economics\". Con finalidad de inferir di al momento de tomar decisiones que se tomaron en esa cuenta, se estuvo incurriendo en esos 3 \"Sesgos cognitivos\" y su impacto en el resultado final.\n",
    "\n",
    "EQUIPO 6:\n",
    "* Paulina Rodriguez\n",
    "* Antonio Tirado\n",
    "* Jose Luis Suarez\n",
    "* Pablo Vargas\n",
    "\n",
    "### TRABAJO DEL EQUIPO\n",
    "Mediante este laboratorio vamos a examinar si el trader tiende a tener un comportamiento llamado \"exceso de confianza\", usando un lapso de tiempo diario, proponiendo el parametro de si realiza 5 o mas transacciones cuenta con este comportamiento."
   ]
  },
  {
   "cell_type": "code",
   "execution_count": 107,
   "metadata": {},
   "outputs": [],
   "source": [
    "import pandas as pd\n",
    "from collections import Counter\n",
    "import matplotlib.pyplot as plt\n"
   ]
  },
  {
   "cell_type": "code",
   "execution_count": 108,
   "metadata": {},
   "outputs": [],
   "source": [
    "def f_datosent(p0_archivo):\n",
    "    \"\"\"\n",
    "    :param p0_archivo: archivo de entrada\n",
    "    :return resultado\n",
    "    \n",
    "    debbuging\n",
    "    p0_archivo = 'archivo_tradeview_2.xlsx'\n",
    "    \n",
    "    \"\"\"\n",
    "    import pandas as pd\n",
    "    import json\n",
    "    \n",
    "    file_type = p0_archivo[-4:]\n",
    "    # Opciones para visualizar data frames en consola\n",
    "    pd.set_option('display.max_rows',5000)\n",
    "    pd.set_option('display.max_columns',500)\n",
    "    pd.set_option('display.width',1000)\n",
    "    \n",
    "    # Ingreso de datos de entrada: Leer archivo JSON\n",
    "    archivo = p0_archivo\n",
    "    \n",
    "    if file_type == 'json':\n",
    "        with open(archivo, encoding='utf-8-sig') as json_file:\n",
    "            datos_2 = json.load(json_file)['data']\n",
    "            \n",
    "        # Seleccionar la seccion de 'closedTransactions' que es la de interes\n",
    "        df_datos = pd.DataFrame(datos_2['closedTransactions']['list'])\n",
    "        \n",
    "        # Seleccionar solo los renglones de operaciones\n",
    "        df_datos = df_datos[(df_datos['type'] == 'buy') | (df_datos['type'] == 'sell') | (df_datos['type'] == 's/l') |\n",
    "                (df_datos['type'] == 't/p')]\n",
    "        \n",
    "        # Resetear index para tener todos los numeros de indice completos\n",
    "        df_datos = df_datos.reset_index()\n",
    "        \n",
    "        # Eliminar columnas 'info' e 'index'\n",
    "        df_datos = df_datos.drop(['info', 'index'], 1)\n",
    "        \n",
    "        # Renombrar columnas\n",
    "        df_datos.rename(columns = {'SL': 'sl', 'TP':'tp', 'price':'openPrice', 'price2':'closePrice', 'item':'Instrument'},\n",
    "                        inplace=True)\n",
    "        return df_datos\n",
    "    elif file_type == 'xlsx':\n",
    "        df_datos = pd.read_excel(archivo, sheet_name = 'Hoja1', col_header=0)\n",
    "        return df_datos"
   ]
  },
  {
   "cell_type": "code",
   "execution_count": 158,
   "metadata": {},
   "outputs": [],
   "source": [
    "#pones la carpeta a analizar\n",
    "df = f_datosent(p0_archivo = 'archivo_tradeview_0.xlsx')\n"
   ]
  },
  {
   "cell_type": "markdown",
   "metadata": {},
   "source": [
    "### DIARIO"
   ]
  },
  {
   "cell_type": "code",
   "execution_count": 233,
   "metadata": {},
   "outputs": [],
   "source": [
    "x=df['openTime']\n",
    "p=[]\n",
    "for i in range(len(df)):\n",
    "    \n",
    "    itemArr = df.loc[:,'openTime']\n",
    "    item = itemArr.values[i]\n",
    "    izq = item[:10]\n",
    "    p.append([izq])\n",
    "    \n",
    "#Jalamos la columna Profit del .csv\n",
    "proArr = df.loc[:,'Profit']\n"
   ]
  },
  {
   "cell_type": "code",
   "execution_count": 299,
   "metadata": {},
   "outputs": [
    {
     "data": {
      "text/plain": [
       "84"
      ]
     },
     "execution_count": 299,
     "metadata": {},
     "output_type": "execute_result"
    }
   ],
   "source": [
    "def listasinsignos(p): return str(p).replace('.','').replace('[','').replace(']','').replace(',','')\n",
    "pp=listasinsignos(p)\n",
    "\n",
    "#convertir string a lista\n",
    "def Convert(string): \n",
    "    li = list(string.split(\" \")) \n",
    "    return li \n",
    "\n",
    "pf=Convert(pp)\n",
    "\n",
    "tabla=pd.DataFrame({'fecha':pf,'profit':proArr})\n",
    "ptabla=tabla['fecha']\n",
    "\n",
    "#Usamos la funcion Counter para contar cuantas veces se repiten las palabras\n",
    "counter = Counter(ptabla)\n",
    "d = pd.DataFrame.from_dict(counter, orient='index').reset_index()\n",
    "d.columns = ['fecha', 'count']\n",
    "cantidad=d['count']\n",
    "\n"
   ]
  },
  {
   "cell_type": "code",
   "execution_count": 235,
   "metadata": {},
   "outputs": [
    {
     "name": "stdout",
     "output_type": "stream",
     "text": [
      "         fecha  count  filtro\n",
      "0   '20190827'     13       1\n",
      "1   '20190828'      2       0\n",
      "2   '20190829'      7       1\n",
      "3   '20190830'      3       0\n",
      "4   '20190902'      5       1\n",
      "5   '20190903'      7       1\n",
      "6   '20190911'      7       1\n",
      "7   '20190913'      5       1\n",
      "8   '20190917'      3       0\n",
      "9   '20190919'      5       1\n",
      "10  '20190925'      5       1\n",
      "11  '20190926'      1       0\n",
      "12  '20190904'      1       0\n",
      "13  '20190905'      3       0\n",
      "14  '20190906'      5       1\n",
      "15  '20190912'      1       0\n",
      "16  '20190916'      4       0\n",
      "17  '20190924'      7       1\n"
     ]
    },
    {
     "data": {
      "image/png": "[encoded data removed]",
      "text/plain": [
       "<Figure size 432x288 with 1 Axes>"
      ]
     },
     "metadata": {},
     "output_type": "display_data"
    }
   ],
   "source": [
    "filtro=[]\n",
    "\n",
    "for i in range(len(cantidad)):\n",
    "    if cantidad[i] >= 5:\n",
    "        filtro.append(1)\n",
    "    else:\n",
    "        filtro.append(0)\n",
    " \n",
    "\n",
    "\n",
    "confiado=sum(filtro)/len(cantidad)\n",
    "desconfiado= 1-confiado\n",
    "\n",
    "colnames = list(d.columns)\n",
    "#Creamos una nueva variable llamada \"Tipo\" que va con el \"ResultadoFinal\"\n",
    "d[\"filtro\"] = filtro\n",
    "\n",
    "#Insertamos en la columna 7 esta variable creada arriba\n",
    "colnames.insert(3,'filtro')\n",
    "\n",
    "#Esta nueva tabla con \"Tipo\" incluido se denomino como \"Tabla_Final\"\n",
    "Tabla_Final = d[colnames]\n",
    "\n",
    "#Hace display a \"Tabla Final\"\n",
    "print(Tabla_Final)\n",
    "\n",
    "\n",
    "\n",
    "#Parametros de la lista\n",
    "labels = ('confiado', 'descondiado')\n",
    "sizes = [confiado, desconfiado]\n",
    "colors = ['royalblue', 'goldenrod']\n",
    "explode = (0.05, 0)  # explode 1st slice\n",
    "\n",
    "# Plot\n",
    "plt.pie(sizes, explode, labels, colors, autopct=('%.2f'))\n",
    "plt.axis('equal')\n",
    "plt.suptitle('% de transacciones con exceso de confianza diario', color = 'mediumblue', size = 17)\n",
    "plt.show()"
   ]
  },
  {
   "cell_type": "code",
   "execution_count": 236,
   "metadata": {},
   "outputs": [
    {
     "data": {
      "text/html": [
       "<div>\n",
       "<style scoped>\n",
       "    .dataframe tbody tr th:only-of-type {\n",
       "        vertical-align: middle;\n",
       "    }\n",
       "\n",
       "    .dataframe tbody tr th {\n",
       "        vertical-align: top;\n",
       "    }\n",
       "\n",
       "    .dataframe thead th {\n",
       "        text-align: right;\n",
       "    }\n",
       "</style>\n",
       "<table border=\"1\" class=\"dataframe\">\n",
       "  <thead>\n",
       "    <tr style=\"text-align: right;\">\n",
       "      <th></th>\n",
       "      <th>fecha</th>\n",
       "      <th>count</th>\n",
       "      <th>filtro</th>\n",
       "    </tr>\n",
       "  </thead>\n",
       "  <tbody>\n",
       "    <tr>\n",
       "      <th>0</th>\n",
       "      <td>'20190827'</td>\n",
       "      <td>13</td>\n",
       "      <td>1</td>\n",
       "    </tr>\n",
       "    <tr>\n",
       "      <th>2</th>\n",
       "      <td>'20190829'</td>\n",
       "      <td>7</td>\n",
       "      <td>1</td>\n",
       "    </tr>\n",
       "    <tr>\n",
       "      <th>4</th>\n",
       "      <td>'20190902'</td>\n",
       "      <td>5</td>\n",
       "      <td>1</td>\n",
       "    </tr>\n",
       "    <tr>\n",
       "      <th>5</th>\n",
       "      <td>'20190903'</td>\n",
       "      <td>7</td>\n",
       "      <td>1</td>\n",
       "    </tr>\n",
       "    <tr>\n",
       "      <th>6</th>\n",
       "      <td>'20190911'</td>\n",
       "      <td>7</td>\n",
       "      <td>1</td>\n",
       "    </tr>\n",
       "    <tr>\n",
       "      <th>7</th>\n",
       "      <td>'20190913'</td>\n",
       "      <td>5</td>\n",
       "      <td>1</td>\n",
       "    </tr>\n",
       "    <tr>\n",
       "      <th>9</th>\n",
       "      <td>'20190919'</td>\n",
       "      <td>5</td>\n",
       "      <td>1</td>\n",
       "    </tr>\n",
       "    <tr>\n",
       "      <th>10</th>\n",
       "      <td>'20190925'</td>\n",
       "      <td>5</td>\n",
       "      <td>1</td>\n",
       "    </tr>\n",
       "    <tr>\n",
       "      <th>14</th>\n",
       "      <td>'20190906'</td>\n",
       "      <td>5</td>\n",
       "      <td>1</td>\n",
       "    </tr>\n",
       "    <tr>\n",
       "      <th>17</th>\n",
       "      <td>'20190924'</td>\n",
       "      <td>7</td>\n",
       "      <td>1</td>\n",
       "    </tr>\n",
       "  </tbody>\n",
       "</table>\n",
       "</div>"
      ],
      "text/plain": [
       "         fecha  count  filtro\n",
       "0   '20190827'     13       1\n",
       "2   '20190829'      7       1\n",
       "4   '20190902'      5       1\n",
       "5   '20190903'      7       1\n",
       "6   '20190911'      7       1\n",
       "7   '20190913'      5       1\n",
       "9   '20190919'      5       1\n",
       "10  '20190925'      5       1\n",
       "14  '20190906'      5       1\n",
       "17  '20190924'      7       1"
      ]
     },
     "execution_count": 236,
     "metadata": {},
     "output_type": "execute_result"
    }
   ],
   "source": [
    "#filtrado\n",
    "k=Tabla_Final['filtro']==1\n",
    "filconfiado = Tabla_Final[k]\n",
    "filconfiado.head(10)"
   ]
  },
  {
   "cell_type": "code",
   "execution_count": 237,
   "metadata": {},
   "outputs": [
    {
     "data": {
      "image/png": "[encoded data removed]",
      "text/plain": [
       "<Figure size 432x288 with 1 Axes>"
      ]
     },
     "metadata": {},
     "output_type": "display_data"
    }
   ],
   "source": [
    "todasf=tabla['fecha']#todas las fechas\n",
    "kk=tabla['profit']#todos los profit\n",
    "fechafil=filconfiado['fecha'] #fechas que quiero\n",
    "\n",
    "#vlookup de fechas de confianza\n",
    "xx=pd.DataFrame(fechafil)\n",
    "m1=list(todasf)\n",
    "sh1=list(kk)\n",
    "junto=[m1,sh1]#union fechas y profit\n",
    "ss=pd.DataFrame(junto).T\n",
    "ss.columns=['fecha','profit']\n",
    "x1s      = pd.merge(xx,ss,on='fecha')\n",
    "monto=x1s['profit']\n",
    "\n",
    "pg=[]\n",
    "for i in range (len(x1s)):\n",
    "    if monto[i]>=0:\n",
    "        pg.append(1)\n",
    "    else:\n",
    "        pg.append(0)\n",
    "        \n",
    "gano=sum(pg)/len(x1s)\n",
    "perdio= 1-gano\n",
    "\n",
    "\n",
    "#Parametros de la lista\n",
    "labels = ('operaciones +', 'operaciones -')\n",
    "sizes = [gano, perdio]\n",
    "colors = ['royalblue', 'goldenrod']\n",
    "explode = (0.05, 0)  # explode 1st slice\n",
    "\n",
    "# Plot\n",
    "plt.pie(sizes, explode, labels, colors, autopct=('%.2f'))\n",
    "plt.axis('equal')\n",
    "plt.suptitle('% de ganado y perdido de transacciones de alta confianza', color = 'mediumblue', size = 17)\n",
    "plt.show()"
   ]
  },
  {
   "cell_type": "markdown",
   "metadata": {},
   "source": [
    "### HORAS"
   ]
  },
  {
   "cell_type": "code",
   "execution_count": 302,
   "metadata": {},
   "outputs": [],
   "source": [
    "t=[]\n",
    "for i in range(len(df)):\n",
    "    \n",
    "    itemArr = df.loc[:,'openTime']\n",
    "    item = itemArr.values[i]\n",
    "    izq = item[:13]\n",
    "    t.append([izq])\n",
    "    \n",
    "\n",
    "tablas=pd.DataFrame({'fecha':t,'profit':proArr})\n",
    "tabla= tabla.rename(columns={0:'fecha',1:'profit'})\n",
    "#tabla=pd.DataFrame({'fecha':t,'profit':proArr})\n",
    "\n",
    "uno=[]\n",
    "for i in range (len(p)):\n",
    "    uno.append(1)\n",
    "        \n",
    "#Definimos la variable de \"colnames\" como la lista de todas las columnas de \"ResultadoFinal\" asignada arriba                \n",
    "colnames = list(tabla.columns)\n",
    "\n",
    "#Creamos una nueva variable llamada \"Tipo\" que va con el \"ResultadoFinal\"\n",
    "tabla[\"unos\"] = uno\n",
    "\n",
    "#Insertamos en la columna 7 esta variable creada arriba\n",
    "colnames.insert(2,'unos')\n",
    "\n",
    "#Esta nueva tabla con \"Tipo\" incluido se denomino como \"Tabla_Final\"\n",
    "Tabla_Final2 = tabla[colnames]\n",
    "\n",
    "\n",
    "w=Tabla_Final2.groupby('fecha')['unos'].sum()\n",
    "ww=pd.DataFrame(w)\n",
    "horas=ww['unos']\n",
    "\n",
    "tablas=pd.DataFrame({'fecha':t,'profit':proArr})\n"
   ]
  },
  {
   "cell_type": "code",
   "execution_count": 303,
   "metadata": {},
   "outputs": [
    {
     "data": {
      "image/png": "[encoded data removed]",
      "text/plain": [
       "<Figure size 432x288 with 1 Axes>"
      ]
     },
     "metadata": {},
     "output_type": "display_data"
    }
   ],
   "source": [
    "#confiado si tiene mas de dos transacciones por hora\n",
    "filtros=[]\n",
    "\n",
    "for i in range(len(horas)):\n",
    "    if horas[i] >= 3:\n",
    "        filtros.append(1)\n",
    "    else:\n",
    "        filtros.append(0)\n",
    "        \n",
    "confiado=sum(filtros)/len(horas)\n",
    "desconfiado= 1-confiado\n",
    "\n",
    "#Definimos la variable de \"colnames\" como la lista de todas las columnas de \"ResultadoFinal\" asignada arriba                \n",
    "colname = list(ww.columns)\n",
    "\n",
    "#Creamos una nueva variable llamada \"Tipo\" que va con el \"ResultadoFinal\"\n",
    "ww[\"filtro\"] = filtros\n",
    "\n",
    "#Insertamos en la columna 7 esta variable creada arriba\n",
    "colname.insert(3,'filtro')\n",
    "\n",
    "#Esta nueva tabla con \"Tipo\" incluido se denomino como \"Tabla_Final\"\n",
    "thoras = ww[colname]\n",
    "\n",
    "\n",
    "\n",
    "#Parametros de la lista\n",
    "labels = ('confiado', 'descondiado')\n",
    "sizes = [confiado, desconfiado]\n",
    "colors = ['royalblue', 'goldenrod']\n",
    "explode = (0.05, 0)  # explode 1st slice\n",
    "\n",
    "# Plot\n",
    "plt.pie(sizes, explode, labels, colors, autopct=('%.2f'))\n",
    "plt.axis('equal')\n",
    "plt.suptitle('% de transacciones con exceso de confianza', color = 'mediumblue', size = 17)\n",
    "plt.show()"
   ]
  },
  {
   "cell_type": "code",
   "execution_count": 353,
   "metadata": {},
   "outputs": [
    {
     "data": {
      "text/plain": [
       "['unos', 'filtro']"
      ]
     },
     "execution_count": 353,
     "metadata": {},
     "output_type": "execute_result"
    }
   ],
   "source": [
    "#filtrado\n",
    "k=thoras['filtro']==1\n",
    "filconfiadoh = thoras[k]\n",
    "\n"
   ]
  },
  {
   "cell_type": "code",
   "execution_count": 346,
   "metadata": {},
   "outputs": [
    {
     "ename": "TypeError",
     "evalue": "unhashable type: 'list'",
     "output_type": "error",
     "traceback": [
      "\u001b[1;31m---------------------------------------------------------------------------\u001b[0m",
      "\u001b[1;31mTypeError\u001b[0m                                 Traceback (most recent call last)",
      "\u001b[1;32m<ipython-input-346-66b922343713>\u001b[0m in \u001b[0;36m<module>\u001b[1;34m\u001b[0m\n\u001b[0;32m     10\u001b[0m \u001b[0mss\u001b[0m\u001b[1;33m=\u001b[0m\u001b[0mpd\u001b[0m\u001b[1;33m.\u001b[0m\u001b[0mDataFrame\u001b[0m\u001b[1;33m(\u001b[0m\u001b[0mjunto\u001b[0m\u001b[1;33m)\u001b[0m\u001b[1;33m.\u001b[0m\u001b[0mT\u001b[0m\u001b[1;33m\u001b[0m\u001b[1;33m\u001b[0m\u001b[0m\n\u001b[0;32m     11\u001b[0m \u001b[0mss\u001b[0m\u001b[1;33m.\u001b[0m\u001b[0mcolumns\u001b[0m\u001b[1;33m=\u001b[0m\u001b[1;33m[\u001b[0m\u001b[1;34m'fecha'\u001b[0m\u001b[1;33m,\u001b[0m\u001b[1;34m'profit'\u001b[0m\u001b[1;33m]\u001b[0m\u001b[1;33m\u001b[0m\u001b[1;33m\u001b[0m\u001b[0m\n\u001b[1;32m---> 12\u001b[1;33m \u001b[0mx1s\u001b[0m      \u001b[1;33m=\u001b[0m \u001b[0mpd\u001b[0m\u001b[1;33m.\u001b[0m\u001b[0mmerge\u001b[0m\u001b[1;33m(\u001b[0m\u001b[0mxx\u001b[0m\u001b[1;33m,\u001b[0m\u001b[0mss\u001b[0m\u001b[1;33m,\u001b[0m\u001b[0mon\u001b[0m\u001b[1;33m=\u001b[0m\u001b[1;34m'fecha'\u001b[0m\u001b[1;33m)\u001b[0m\u001b[1;33m\u001b[0m\u001b[1;33m\u001b[0m\u001b[0m\n\u001b[0m\u001b[0;32m     13\u001b[0m \u001b[0mmonto\u001b[0m\u001b[1;33m=\u001b[0m\u001b[0mx1s\u001b[0m\u001b[1;33m[\u001b[0m\u001b[1;34m'profit'\u001b[0m\u001b[1;33m]\u001b[0m\u001b[1;33m\u001b[0m\u001b[1;33m\u001b[0m\u001b[0m\n\u001b[0;32m     14\u001b[0m \u001b[1;33m\u001b[0m\u001b[0m\n",
      "\u001b[1;32m~\\Documents\\anaconda\\lib\\site-packages\\pandas\\core\\reshape\\merge.py\u001b[0m in \u001b[0;36mmerge\u001b[1;34m(left, right, how, on, left_on, right_on, left_index, right_index, sort, suffixes, copy, indicator, validate)\u001b[0m\n\u001b[0;32m     46\u001b[0m                          \u001b[0mcopy\u001b[0m\u001b[1;33m=\u001b[0m\u001b[0mcopy\u001b[0m\u001b[1;33m,\u001b[0m \u001b[0mindicator\u001b[0m\u001b[1;33m=\u001b[0m\u001b[0mindicator\u001b[0m\u001b[1;33m,\u001b[0m\u001b[1;33m\u001b[0m\u001b[1;33m\u001b[0m\u001b[0m\n\u001b[0;32m     47\u001b[0m                          validate=validate)\n\u001b[1;32m---> 48\u001b[1;33m     \u001b[1;32mreturn\u001b[0m \u001b[0mop\u001b[0m\u001b[1;33m.\u001b[0m\u001b[0mget_result\u001b[0m\u001b[1;33m(\u001b[0m\u001b[1;33m)\u001b[0m\u001b[1;33m\u001b[0m\u001b[1;33m\u001b[0m\u001b[0m\n\u001b[0m\u001b[0;32m     49\u001b[0m \u001b[1;33m\u001b[0m\u001b[0m\n\u001b[0;32m     50\u001b[0m \u001b[1;33m\u001b[0m\u001b[0m\n",
      "\u001b[1;32m~\\Documents\\anaconda\\lib\\site-packages\\pandas\\core\\reshape\\merge.py\u001b[0m in \u001b[0;36mget_result\u001b[1;34m(self)\u001b[0m\n\u001b[0;32m    544\u001b[0m                 self.left, self.right)\n\u001b[0;32m    545\u001b[0m \u001b[1;33m\u001b[0m\u001b[0m\n\u001b[1;32m--> 546\u001b[1;33m         \u001b[0mjoin_index\u001b[0m\u001b[1;33m,\u001b[0m \u001b[0mleft_indexer\u001b[0m\u001b[1;33m,\u001b[0m \u001b[0mright_indexer\u001b[0m \u001b[1;33m=\u001b[0m \u001b[0mself\u001b[0m\u001b[1;33m.\u001b[0m\u001b[0m_get_join_info\u001b[0m\u001b[1;33m(\u001b[0m\u001b[1;33m)\u001b[0m\u001b[1;33m\u001b[0m\u001b[1;33m\u001b[0m\u001b[0m\n\u001b[0m\u001b[0;32m    547\u001b[0m \u001b[1;33m\u001b[0m\u001b[0m\n\u001b[0;32m    548\u001b[0m         \u001b[0mldata\u001b[0m\u001b[1;33m,\u001b[0m \u001b[0mrdata\u001b[0m \u001b[1;33m=\u001b[0m \u001b[0mself\u001b[0m\u001b[1;33m.\u001b[0m\u001b[0mleft\u001b[0m\u001b[1;33m.\u001b[0m\u001b[0m_data\u001b[0m\u001b[1;33m,\u001b[0m \u001b[0mself\u001b[0m\u001b[1;33m.\u001b[0m\u001b[0mright\u001b[0m\u001b[1;33m.\u001b[0m\u001b[0m_data\u001b[0m\u001b[1;33m\u001b[0m\u001b[1;33m\u001b[0m\u001b[0m\n",
      "\u001b[1;32m~\\Documents\\anaconda\\lib\\site-packages\\pandas\\core\\reshape\\merge.py\u001b[0m in \u001b[0;36m_get_join_info\u001b[1;34m(self)\u001b[0m\n\u001b[0;32m    754\u001b[0m         \u001b[1;32melse\u001b[0m\u001b[1;33m:\u001b[0m\u001b[1;33m\u001b[0m\u001b[1;33m\u001b[0m\u001b[0m\n\u001b[0;32m    755\u001b[0m             (left_indexer,\n\u001b[1;32m--> 756\u001b[1;33m              right_indexer) = self._get_join_indexers()\n\u001b[0m\u001b[0;32m    757\u001b[0m \u001b[1;33m\u001b[0m\u001b[0m\n\u001b[0;32m    758\u001b[0m             \u001b[1;32mif\u001b[0m \u001b[0mself\u001b[0m\u001b[1;33m.\u001b[0m\u001b[0mright_index\u001b[0m\u001b[1;33m:\u001b[0m\u001b[1;33m\u001b[0m\u001b[1;33m\u001b[0m\u001b[0m\n",
      "\u001b[1;32m~\\Documents\\anaconda\\lib\\site-packages\\pandas\\core\\reshape\\merge.py\u001b[0m in \u001b[0;36m_get_join_indexers\u001b[1;34m(self)\u001b[0m\n\u001b[0;32m    733\u001b[0m                                   \u001b[0mself\u001b[0m\u001b[1;33m.\u001b[0m\u001b[0mright_join_keys\u001b[0m\u001b[1;33m,\u001b[0m\u001b[1;33m\u001b[0m\u001b[1;33m\u001b[0m\u001b[0m\n\u001b[0;32m    734\u001b[0m                                   \u001b[0msort\u001b[0m\u001b[1;33m=\u001b[0m\u001b[0mself\u001b[0m\u001b[1;33m.\u001b[0m\u001b[0msort\u001b[0m\u001b[1;33m,\u001b[0m\u001b[1;33m\u001b[0m\u001b[1;33m\u001b[0m\u001b[0m\n\u001b[1;32m--> 735\u001b[1;33m                                   how=self.how)\n\u001b[0m\u001b[0;32m    736\u001b[0m \u001b[1;33m\u001b[0m\u001b[0m\n\u001b[0;32m    737\u001b[0m     \u001b[1;32mdef\u001b[0m \u001b[0m_get_join_info\u001b[0m\u001b[1;33m(\u001b[0m\u001b[0mself\u001b[0m\u001b[1;33m)\u001b[0m\u001b[1;33m:\u001b[0m\u001b[1;33m\u001b[0m\u001b[1;33m\u001b[0m\u001b[0m\n",
      "\u001b[1;32m~\\Documents\\anaconda\\lib\\site-packages\\pandas\\core\\reshape\\merge.py\u001b[0m in \u001b[0;36m_get_join_indexers\u001b[1;34m(left_keys, right_keys, sort, how, **kwargs)\u001b[0m\n\u001b[0;32m   1128\u001b[0m \u001b[1;33m\u001b[0m\u001b[0m\n\u001b[0;32m   1129\u001b[0m     \u001b[1;31m# get left & right join labels and num. of levels at each location\u001b[0m\u001b[1;33m\u001b[0m\u001b[1;33m\u001b[0m\u001b[1;33m\u001b[0m\u001b[0m\n\u001b[1;32m-> 1130\u001b[1;33m     \u001b[0mllab\u001b[0m\u001b[1;33m,\u001b[0m \u001b[0mrlab\u001b[0m\u001b[1;33m,\u001b[0m \u001b[0mshape\u001b[0m \u001b[1;33m=\u001b[0m \u001b[0mmap\u001b[0m\u001b[1;33m(\u001b[0m\u001b[0mlist\u001b[0m\u001b[1;33m,\u001b[0m \u001b[0mzip\u001b[0m\u001b[1;33m(\u001b[0m\u001b[1;33m*\u001b[0m \u001b[0mmap\u001b[0m\u001b[1;33m(\u001b[0m\u001b[0mfkeys\u001b[0m\u001b[1;33m,\u001b[0m \u001b[0mleft_keys\u001b[0m\u001b[1;33m,\u001b[0m \u001b[0mright_keys\u001b[0m\u001b[1;33m)\u001b[0m\u001b[1;33m)\u001b[0m\u001b[1;33m)\u001b[0m\u001b[1;33m\u001b[0m\u001b[1;33m\u001b[0m\u001b[0m\n\u001b[0m\u001b[0;32m   1131\u001b[0m \u001b[1;33m\u001b[0m\u001b[0m\n\u001b[0;32m   1132\u001b[0m     \u001b[1;31m# get flat i8 keys from label lists\u001b[0m\u001b[1;33m\u001b[0m\u001b[1;33m\u001b[0m\u001b[1;33m\u001b[0m\u001b[0m\n",
      "\u001b[1;32m~\\Documents\\anaconda\\lib\\site-packages\\pandas\\core\\reshape\\merge.py\u001b[0m in \u001b[0;36m_factorize_keys\u001b[1;34m(lk, rk, sort)\u001b[0m\n\u001b[0;32m   1660\u001b[0m \u001b[1;33m\u001b[0m\u001b[0m\n\u001b[0;32m   1661\u001b[0m     \u001b[0mllab\u001b[0m \u001b[1;33m=\u001b[0m \u001b[0mrizer\u001b[0m\u001b[1;33m.\u001b[0m\u001b[0mfactorize\u001b[0m\u001b[1;33m(\u001b[0m\u001b[0mlk\u001b[0m\u001b[1;33m)\u001b[0m\u001b[1;33m\u001b[0m\u001b[1;33m\u001b[0m\u001b[0m\n\u001b[1;32m-> 1662\u001b[1;33m     \u001b[0mrlab\u001b[0m \u001b[1;33m=\u001b[0m \u001b[0mrizer\u001b[0m\u001b[1;33m.\u001b[0m\u001b[0mfactorize\u001b[0m\u001b[1;33m(\u001b[0m\u001b[0mrk\u001b[0m\u001b[1;33m)\u001b[0m\u001b[1;33m\u001b[0m\u001b[1;33m\u001b[0m\u001b[0m\n\u001b[0m\u001b[0;32m   1663\u001b[0m \u001b[1;33m\u001b[0m\u001b[0m\n\u001b[0;32m   1664\u001b[0m     \u001b[0mcount\u001b[0m \u001b[1;33m=\u001b[0m \u001b[0mrizer\u001b[0m\u001b[1;33m.\u001b[0m\u001b[0mget_count\u001b[0m\u001b[1;33m(\u001b[0m\u001b[1;33m)\u001b[0m\u001b[1;33m\u001b[0m\u001b[1;33m\u001b[0m\u001b[0m\n",
      "\u001b[1;32mpandas/_libs/hashtable.pyx\u001b[0m in \u001b[0;36mpandas._libs.hashtable.Factorizer.factorize\u001b[1;34m()\u001b[0m\n",
      "\u001b[1;32mpandas/_libs/hashtable_class_helper.pxi\u001b[0m in \u001b[0;36mpandas._libs.hashtable.PyObjectHashTable.get_labels\u001b[1;34m()\u001b[0m\n",
      "\u001b[1;32mpandas/_libs/hashtable_class_helper.pxi\u001b[0m in \u001b[0;36mpandas._libs.hashtable.PyObjectHashTable._unique\u001b[1;34m()\u001b[0m\n",
      "\u001b[1;31mTypeError\u001b[0m: unhashable type: 'list'"
     ]
    }
   ],
   "source": [
    "todasf=tablas['fecha']#todas las fechas\n",
    "kk=tablas['profit']#todos los profit\n",
    "fechafil=filconfiadoh['fecha'] #fechas que quiero\n",
    "\n",
    "#vlookup de fechas de confianza\n",
    "xx=pd.DataFrame(fechafil)\n",
    "m1=list(todasf)\n",
    "sh1=list(kk)\n",
    "junto=[m1,sh1]#union fechas y profit\n",
    "ss=pd.DataFrame(junto).T\n",
    "ss.columns=['fecha','profit']\n",
    "x1s      = pd.merge(xx,ss,on='fecha')\n",
    "monto=x1s['profit']\n",
    "\n",
    "pg=[]\n",
    "for i in range (len(x1s)):\n",
    "    if monto[i]>=0:\n",
    "        pg.append(1)\n",
    "    else:\n",
    "        pg.append(0)\n",
    "        \n",
    "gano=sum(pg)/len(x1s)\n",
    "perdio= 1-gano\n",
    "\n",
    "\n",
    "#Parametros de la lista\n",
    "labels = ('operaciones +', 'operaciones -')\n",
    "sizes = [gano, perdio]\n",
    "colors = ['royalblue', 'goldenrod']\n",
    "explode = (0.05, 0)  # explode 1st slice\n",
    "\n",
    "# Plot\n",
    "plt.pie(sizes, explode, labels, colors, autopct=('%.2f'))\n",
    "plt.axis('equal')\n",
    "plt.suptitle('% de ganado y perdido de transacciones de alta confianza', color = 'mediumblue', size = 17)\n",
    "plt.show()"
   ]
  },
  {
   "cell_type": "code",
   "execution_count": null,
   "metadata": {},
   "outputs": [],
   "source": []
  }
 ],
 "metadata": {
  "kernelspec": {
   "display_name": "Python 3",
   "language": "python",
   "name": "python3"
  },
  "language_info": {
   "codemirror_mode": {
    "name": "ipython",
    "version": 3
   },
   "file_extension": ".py",
   "mimetype": "text/x-python",
   "name": "python",
   "nbconvert_exporter": "python",
   "pygments_lexer": "ipython3",
   "version": "3.7.3"
  }
 },
 "nbformat": 4,
 "nbformat_minor": 2
}
