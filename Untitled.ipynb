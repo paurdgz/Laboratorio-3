{
 "cells": [
  {
   "cell_type": "markdown",
   "metadata": {},
   "source": [
    "## LABORATORIO 3: BEHAVIORAL ECONOMICS IN TRADING\n",
    "\n",
    "#### Proposito: \n",
    "Que utilices la infomracion historica de la cuenta de trading manual, mediante la formulacion y programaciones de 3 \"sesgos cognitivos\" realices una evaluacion del desempeño de la cuenta utilizando el marco de \"behavioral economics\". Con finalidad de inferir di al momento de tomar decisiones que se tomaron en esa cuenta, se estuvo incurriendo en esos 3 \"Sesgos cognitivos\" y su impacto en el resultado final.\n",
    "\n",
    "EQUIPO 6:\n",
    "* Paulina Rodriguez\n",
    "* Antonio Tirado\n",
    "* Jose Luis Suarez\n",
    "* Pablo Vargas\n",
    "\n",
    "### TRABAJO DEL EQUIPO\n",
    "Mediante este laboratorio vamos a examinar si el trader tiende a tener un comportamiento llamado \"exceso de confianza\", usando un lapso de tiempo diario, proponiendo el parametro de si realiza 5 o mas transacciones cuenta con este comportamiento."
   ]
  },
  {
   "cell_type": "code",
   "execution_count": 5,
   "metadata": {},
   "outputs": [],
   "source": [
    "import pandas as pd\n",
    "from collections import Counter\n",
    "import matplotlib.pyplot as plt\n"
   ]
  },
  {
   "cell_type": "code",
   "execution_count": 6,
   "metadata": {},
   "outputs": [],
   "source": [
    "def f_datosent(p0_archivo):\n",
    "    \"\"\"\n",
    "    :param p0_archivo: archivo de entrada\n",
    "    :return resultado\n",
    "    \n",
    "    debbuging\n",
    "    p0_archivo = 'archivo_tradeview_2.xlsx'\n",
    "    \n",
    "    \"\"\"\n",
    "    import pandas as pd\n",
    "    import json\n",
    "    \n",
    "    file_type = p0_archivo[-4:]\n",
    "    # Opciones para visualizar data frames en consola\n",
    "    pd.set_option('display.max_rows',5000)\n",
    "    pd.set_option('display.max_columns',500)\n",
    "    pd.set_option('display.width',1000)\n",
    "    \n",
    "    # Ingreso de datos de entrada: Leer archivo JSON\n",
    "    archivo = p0_archivo\n",
    "    \n",
    "    if file_type == 'json':\n",
    "        with open(archivo, encoding='utf-8-sig') as json_file:\n",
    "            datos_2 = json.load(json_file)['data']\n",
    "            \n",
    "        # Seleccionar la seccion de 'closedTransactions' que es la de interes\n",
    "        df_datos = pd.DataFrame(datos_2['closedTransactions']['list'])\n",
    "        \n",
    "        # Seleccionar solo los renglones de operaciones\n",
    "        df_datos = df_datos[(df_datos['type'] == 'buy') | (df_datos['type'] == 'sell') | (df_datos['type'] == 's/l') |\n",
    "                (df_datos['type'] == 't/p')]\n",
    "        \n",
    "        # Resetear index para tener todos los numeros de indice completos\n",
    "        df_datos = df_datos.reset_index()\n",
    "        \n",
    "        # Eliminar columnas 'info' e 'index'\n",
    "        df_datos = df_datos.drop(['info', 'index'], 1)\n",
    "        \n",
    "        # Renombrar columnas\n",
    "        df_datos.rename(columns = {'SL': 'sl', 'TP':'tp', 'price':'openPrice', 'price2':'closePrice', 'item':'Instrument'},\n",
    "                        inplace=True)\n",
    "        return df_datos\n",
    "    elif file_type == 'xlsx':\n",
    "        df_datos = pd.read_excel(archivo, sheet_name = 'Hoja1', col_header=0)\n",
    "        return df_datos"
   ]
  },
  {
   "cell_type": "code",
   "execution_count": 24,
   "metadata": {},
   "outputs": [],
   "source": [
    "df = f_datosent(p0_archivo = 'archivo_tradeview_0.xlsx')\n",
    "x=df['openTime']\n",
    "p=[]\n",
    "for i in range(len(df)):\n",
    "    \n",
    "    itemArr = df.loc[:,'openTime']\n",
    "    item = itemArr.values[i]\n",
    "    izq = item[:10]\n",
    "    p.append([izq])\n",
    "    \n",
    "#Jalamos la columna Profit del .csv\n",
    "proArr = df.loc[:,'Profit']\n",
    "profit = proArr.values[i]\n",
    "tabla=pd.DataFrame(p)\n",
    "tabla= tabla.rename(columns={0:'fecha', 1:'profit'})\n",
    "ptabla=tabla['fecha']\n"
   ]
  },
  {
   "cell_type": "code",
   "execution_count": 25,
   "metadata": {},
   "outputs": [],
   "source": [
    "def listasinsignos(p): return str(p).replace('.','').replace('[','').replace(']','').replace(',','')\n",
    "pp=listasinsignos(p)\n",
    "\n",
    "def Convert(string): \n",
    "    li = list(string.split(\" \")) \n",
    "    return li \n",
    "pf=Convert(pp)\n",
    "#Usamos la funcion Counter para contar cuantas veces se repiten las palabras\n",
    "counter = Counter(pf)\n",
    "d = pd.DataFrame.from_dict(counter, orient='index').reset_index()\n",
    "d = d.rename(columns={'index':'event', 0:'count'})\n",
    "cantidad=d['count']\n"
   ]
  },
  {
   "cell_type": "code",
   "execution_count": 26,
   "metadata": {},
   "outputs": [
    {
     "data": {
      "image/png": "[encoded data removed]",
      "text/plain": [
       "<Figure size 432x288 with 1 Axes>"
      ]
     },
     "metadata": {},
     "output_type": "display_data"
    }
   ],
   "source": [
    "filtro=[]\n",
    "\n",
    "for i in range(len(cantidad)):\n",
    "    if cantidad[i] >= 5:\n",
    "        filtro.append(1)\n",
    "    else:\n",
    "        filtro.append(0)\n",
    "        \n",
    "confiado=sum(filtro)/len(cantidad)\n",
    "desconfiado= 1-confiado\n",
    "\n",
    "#Parametros de la lista\n",
    "labels = ('confiado', 'descondiado')\n",
    "sizes = [confiado, desconfiado]\n",
    "colors = ['royalblue', 'goldenrod']\n",
    "explode = (0.05, 0)  # explode 1st slice\n",
    "\n",
    "# Plot\n",
    "plt.pie(sizes, explode, labels, colors, autopct=('%.2f'))\n",
    "plt.axis('equal')\n",
    "plt.suptitle('% de transacciones con exceso de confianza', color = 'mediumblue', size = 17)\n",
    "plt.show()"
   ]
  },
  {
   "cell_type": "code",
   "execution_count": null,
   "metadata": {},
   "outputs": [],
   "source": [
    "tabla=pd.DataFrame()"
   ]
  }
 ],
 "metadata": {
  "kernelspec": {
   "display_name": "Python 3",
   "language": "python",
   "name": "python3"
  },
  "language_info": {
   "codemirror_mode": {
    "name": "ipython",
    "version": 3
   },
   "file_extension": ".py",
   "mimetype": "text/x-python",
   "name": "python",
   "nbconvert_exporter": "python",
   "pygments_lexer": "ipython3",
   "version": "3.7.3"
  }
 },
 "nbformat": 4,
 "nbformat_minor": 2
}
